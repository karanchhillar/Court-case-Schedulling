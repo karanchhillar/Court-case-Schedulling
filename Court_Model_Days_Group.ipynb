{
 "cells": [
  {
   "cell_type": "code",
   "execution_count": 1,
   "id": "24428d57",
   "metadata": {},
   "outputs": [],
   "source": [
    "import pandas as pd\n",
    "import numpy as np\n",
    "df = pd.read_csv(r\"D:\\Machine Learning\\final_preprocessed_data.csv\")"
   ]
  },
  {
   "cell_type": "code",
   "execution_count": 2,
   "id": "4ce631a8",
   "metadata": {},
   "outputs": [
    {
     "data": {
      "text/html": [
       "<div>\n",
       "<style scoped>\n",
       "    .dataframe tbody tr th:only-of-type {\n",
       "        vertical-align: middle;\n",
       "    }\n",
       "\n",
       "    .dataframe tbody tr th {\n",
       "        vertical-align: top;\n",
       "    }\n",
       "\n",
       "    .dataframe thead th {\n",
       "        text-align: right;\n",
       "    }\n",
       "</style>\n",
       "<table border=\"1\" class=\"dataframe\">\n",
       "  <thead>\n",
       "    <tr style=\"text-align: right;\">\n",
       "      <th></th>\n",
       "      <th>state_code</th>\n",
       "      <th>dist_code</th>\n",
       "      <th>type_name</th>\n",
       "      <th>purpose_name</th>\n",
       "      <th>disp_name</th>\n",
       "      <th>Judge_Labels</th>\n",
       "      <th>Lag</th>\n",
       "      <th>Total_Days</th>\n",
       "    </tr>\n",
       "  </thead>\n",
       "  <tbody>\n",
       "    <tr>\n",
       "      <th>0</th>\n",
       "      <td>1</td>\n",
       "      <td>1</td>\n",
       "      <td>1943</td>\n",
       "      <td>2975</td>\n",
       "      <td>33</td>\n",
       "      <td>55</td>\n",
       "      <td>0.0</td>\n",
       "      <td>37.0</td>\n",
       "    </tr>\n",
       "    <tr>\n",
       "      <th>1</th>\n",
       "      <td>1</td>\n",
       "      <td>1</td>\n",
       "      <td>1943</td>\n",
       "      <td>3315</td>\n",
       "      <td>52</td>\n",
       "      <td>55</td>\n",
       "      <td>0.0</td>\n",
       "      <td>31.0</td>\n",
       "    </tr>\n",
       "    <tr>\n",
       "      <th>2</th>\n",
       "      <td>1</td>\n",
       "      <td>1</td>\n",
       "      <td>1943</td>\n",
       "      <td>5877</td>\n",
       "      <td>52</td>\n",
       "      <td>55</td>\n",
       "      <td>0.0</td>\n",
       "      <td>31.0</td>\n",
       "    </tr>\n",
       "    <tr>\n",
       "      <th>3</th>\n",
       "      <td>1</td>\n",
       "      <td>1</td>\n",
       "      <td>1943</td>\n",
       "      <td>840</td>\n",
       "      <td>52</td>\n",
       "      <td>55</td>\n",
       "      <td>0.0</td>\n",
       "      <td>31.0</td>\n",
       "    </tr>\n",
       "    <tr>\n",
       "      <th>4</th>\n",
       "      <td>1</td>\n",
       "      <td>1</td>\n",
       "      <td>1943</td>\n",
       "      <td>840</td>\n",
       "      <td>5</td>\n",
       "      <td>55</td>\n",
       "      <td>0.0</td>\n",
       "      <td>8.0</td>\n",
       "    </tr>\n",
       "  </tbody>\n",
       "</table>\n",
       "</div>"
      ],
      "text/plain": [
       "   state_code  dist_code  type_name  purpose_name  disp_name  Judge_Labels  \\\n",
       "0           1          1       1943          2975         33            55   \n",
       "1           1          1       1943          3315         52            55   \n",
       "2           1          1       1943          5877         52            55   \n",
       "3           1          1       1943           840         52            55   \n",
       "4           1          1       1943           840          5            55   \n",
       "\n",
       "   Lag  Total_Days  \n",
       "0  0.0        37.0  \n",
       "1  0.0        31.0  \n",
       "2  0.0        31.0  \n",
       "3  0.0        31.0  \n",
       "4  0.0         8.0  "
      ]
     },
     "execution_count": 2,
     "metadata": {},
     "output_type": "execute_result"
    }
   ],
   "source": [
    "df.head()"
   ]
  },
  {
   "cell_type": "code",
   "execution_count": 3,
   "id": "271d6bd6",
   "metadata": {},
   "outputs": [
    {
     "data": {
      "text/plain": [
       "981     513845\n",
       "977     426036\n",
       "736     328940\n",
       "1892    294604\n",
       "853     275986\n",
       "         ...  \n",
       "5390      2071\n",
       "3090      2046\n",
       "5297      1922\n",
       "4975      1572\n",
       "4947      1036\n",
       "Name: type_name, Length: 500, dtype: int64"
      ]
     },
     "execution_count": 3,
     "metadata": {},
     "output_type": "execute_result"
    }
   ],
   "source": [
    "df['type_name'].value_counts()"
   ]
  },
  {
   "cell_type": "code",
   "execution_count": 4,
   "id": "ea2b4253",
   "metadata": {},
   "outputs": [],
   "source": [
    "top_100_positions = df['type_name'].value_counts().head(100).index\n",
    "df = df[df['type_name'].isin(top_100_positions)]"
   ]
  },
  {
   "cell_type": "code",
   "execution_count": 5,
   "id": "039a404f",
   "metadata": {},
   "outputs": [
    {
     "data": {
      "text/plain": [
       "(9295134, 8)"
      ]
     },
     "execution_count": 5,
     "metadata": {},
     "output_type": "execute_result"
    }
   ],
   "source": [
    "df.shape"
   ]
  },
  {
   "cell_type": "code",
   "execution_count": 6,
   "id": "458ebce9",
   "metadata": {},
   "outputs": [],
   "source": [
    "top_40_positions = df['Judge_Labels'].value_counts().head(40).index\n",
    "df = df[df['Judge_Labels'].isin(top_40_positions)]"
   ]
  },
  {
   "cell_type": "code",
   "execution_count": 7,
   "id": "96cc3ae4",
   "metadata": {},
   "outputs": [
    {
     "data": {
      "text/plain": [
       "(8980039, 8)"
      ]
     },
     "execution_count": 7,
     "metadata": {},
     "output_type": "execute_result"
    }
   ],
   "source": [
    "df.shape"
   ]
  },
  {
   "cell_type": "code",
   "execution_count": 8,
   "id": "43bc8600",
   "metadata": {},
   "outputs": [
    {
     "data": {
      "text/plain": [
       "0.0       157671\n",
       "1.0         5783\n",
       "2.0         3434\n",
       "3.0         2450\n",
       "7.0         2425\n",
       "           ...  \n",
       "1159.0         1\n",
       "1186.0         1\n",
       "1300.0         1\n",
       "1315.0         1\n",
       "1148.0         1\n",
       "Name: Total_Days, Length: 1164, dtype: int64"
      ]
     },
     "execution_count": 8,
     "metadata": {},
     "output_type": "execute_result"
    }
   ],
   "source": [
    "df[df['type_name']==981]['Total_Days'].value_counts()"
   ]
  },
  {
   "cell_type": "code",
   "execution_count": 9,
   "id": "12e07666",
   "metadata": {},
   "outputs": [],
   "source": [
    "import pandas as pd\n",
    "\n",
    "for value in df['type_name'].unique():\n",
    "    specific_type_name = value\n",
    "    specific_type_data = df[df['type_name'] == specific_type_name]\n",
    "    Q1 = specific_type_data['Total_Days'].quantile(0.25)\n",
    "    Q3 = specific_type_data['Total_Days'].quantile(0.75)\n",
    "    IQR = Q3 - Q1\n",
    "    lower_bound = Q1 - 1.3 * IQR\n",
    "    upper_bound = Q3 + 1.3 * IQR\n",
    "    df = df[(df['type_name'] != specific_type_name) | ((df['type_name'] == specific_type_name) & (df['Total_Days'] >= lower_bound) & (df['Total_Days'] <= upper_bound))]\n"
   ]
  },
  {
   "cell_type": "code",
   "execution_count": 10,
   "id": "9ccd0f0b",
   "metadata": {},
   "outputs": [
    {
     "data": {
      "text/plain": [
       "(7977613, 8)"
      ]
     },
     "execution_count": 10,
     "metadata": {},
     "output_type": "execute_result"
    }
   ],
   "source": [
    "df.shape"
   ]
  },
  {
   "cell_type": "code",
   "execution_count": 11,
   "id": "a39e9984",
   "metadata": {},
   "outputs": [
    {
     "data": {
      "text/html": [
       "<div>\n",
       "<style scoped>\n",
       "    .dataframe tbody tr th:only-of-type {\n",
       "        vertical-align: middle;\n",
       "    }\n",
       "\n",
       "    .dataframe tbody tr th {\n",
       "        vertical-align: top;\n",
       "    }\n",
       "\n",
       "    .dataframe thead th {\n",
       "        text-align: right;\n",
       "    }\n",
       "</style>\n",
       "<table border=\"1\" class=\"dataframe\">\n",
       "  <thead>\n",
       "    <tr style=\"text-align: right;\">\n",
       "      <th></th>\n",
       "      <th>state_code</th>\n",
       "      <th>dist_code</th>\n",
       "      <th>type_name</th>\n",
       "      <th>purpose_name</th>\n",
       "      <th>disp_name</th>\n",
       "      <th>Judge_Labels</th>\n",
       "      <th>Lag</th>\n",
       "      <th>Total_Days</th>\n",
       "    </tr>\n",
       "  </thead>\n",
       "  <tbody>\n",
       "    <tr>\n",
       "      <th>0</th>\n",
       "      <td>1</td>\n",
       "      <td>1</td>\n",
       "      <td>1943</td>\n",
       "      <td>2975</td>\n",
       "      <td>33</td>\n",
       "      <td>55</td>\n",
       "      <td>0.0</td>\n",
       "      <td>37.0</td>\n",
       "    </tr>\n",
       "    <tr>\n",
       "      <th>1</th>\n",
       "      <td>1</td>\n",
       "      <td>1</td>\n",
       "      <td>1943</td>\n",
       "      <td>3315</td>\n",
       "      <td>52</td>\n",
       "      <td>55</td>\n",
       "      <td>0.0</td>\n",
       "      <td>31.0</td>\n",
       "    </tr>\n",
       "    <tr>\n",
       "      <th>2</th>\n",
       "      <td>1</td>\n",
       "      <td>1</td>\n",
       "      <td>1943</td>\n",
       "      <td>5877</td>\n",
       "      <td>52</td>\n",
       "      <td>55</td>\n",
       "      <td>0.0</td>\n",
       "      <td>31.0</td>\n",
       "    </tr>\n",
       "    <tr>\n",
       "      <th>3</th>\n",
       "      <td>1</td>\n",
       "      <td>1</td>\n",
       "      <td>1943</td>\n",
       "      <td>840</td>\n",
       "      <td>52</td>\n",
       "      <td>55</td>\n",
       "      <td>0.0</td>\n",
       "      <td>31.0</td>\n",
       "    </tr>\n",
       "    <tr>\n",
       "      <th>4</th>\n",
       "      <td>1</td>\n",
       "      <td>1</td>\n",
       "      <td>1943</td>\n",
       "      <td>840</td>\n",
       "      <td>5</td>\n",
       "      <td>55</td>\n",
       "      <td>0.0</td>\n",
       "      <td>8.0</td>\n",
       "    </tr>\n",
       "  </tbody>\n",
       "</table>\n",
       "</div>"
      ],
      "text/plain": [
       "   state_code  dist_code  type_name  purpose_name  disp_name  Judge_Labels  \\\n",
       "0           1          1       1943          2975         33            55   \n",
       "1           1          1       1943          3315         52            55   \n",
       "2           1          1       1943          5877         52            55   \n",
       "3           1          1       1943           840         52            55   \n",
       "4           1          1       1943           840          5            55   \n",
       "\n",
       "   Lag  Total_Days  \n",
       "0  0.0        37.0  \n",
       "1  0.0        31.0  \n",
       "2  0.0        31.0  \n",
       "3  0.0        31.0  \n",
       "4  0.0         8.0  "
      ]
     },
     "execution_count": 11,
     "metadata": {},
     "output_type": "execute_result"
    }
   ],
   "source": [
    "df.head()"
   ]
  },
  {
   "cell_type": "code",
   "execution_count": 13,
   "id": "8e4473b4",
   "metadata": {},
   "outputs": [],
   "source": [
    "bins = [-1,40,150,250 ,350, float('inf')]\n",
    "labels = [1, 2, 3, 4,5]\n",
    "\n",
    "\n",
    "df['total_Days_Group'] = pd.cut(df['Total_Days'], bins=bins, labels=labels)\n",
    "df['total_Days_Group'] = df['total_Days_Group'].astype('int')\n"
   ]
  },
  {
   "cell_type": "code",
   "execution_count": 14,
   "id": "b436c13e",
   "metadata": {},
   "outputs": [],
   "source": [
    "import lightgbm as lgb\n",
    "from sklearn.model_selection import train_test_split\n",
    "from sklearn.metrics import mean_squared_error, r2_score"
   ]
  },
  {
   "cell_type": "code",
   "execution_count": 15,
   "id": "a0502783",
   "metadata": {},
   "outputs": [],
   "source": [
    "X = df[['state_code','dist_code', 'type_name','Judge_Labels']]\n",
    "y = df['total_Days_Group']\n",
    "\n",
    "X_train, X_test, y_train, y_test = train_test_split(X, y, test_size=0.2)\n"
   ]
  },
  {
   "cell_type": "code",
   "execution_count": 16,
   "id": "58d0d3eb",
   "metadata": {},
   "outputs": [],
   "source": [
    "best_params = {\n",
    "    'objective': 'regression',\n",
    "    'num_leaves': 80,\n",
    "    'n_estimators': 600,\n",
    "    'learning_rate': 0.3,\n",
    "    'feature_fraction': 0.8,\n",
    "    'boosting_type': 'gbdt',\n",
    "    'bagging_freq': 4,\n",
    "    'bagging_fraction': 0.8,\n",
    "    'force_col_wise':True\n",
    "}\n",
    "\n",
    "train_data = lgb.Dataset(X_train, label=y_train)"
   ]
  },
  {
   "cell_type": "code",
   "execution_count": 17,
   "id": "2fcab349",
   "metadata": {},
   "outputs": [
    {
     "name": "stderr",
     "output_type": "stream",
     "text": [
      "C:\\Users\\dell\\anaconda3\\lib\\site-packages\\lightgbm\\engine.py:172: UserWarning: Found `n_estimators` in params. Will use it instead of argument\n",
      "  _log_warning(f\"Found `{alias}` in params. Will use it instead of argument\")\n"
     ]
    },
    {
     "name": "stdout",
     "output_type": "stream",
     "text": [
      "[LightGBM] [Info] Total Bins 246\n",
      "[LightGBM] [Info] Number of data points in the train set: 6382090, number of used features: 4\n",
      "[LightGBM] [Info] Start training from score 1.496618\n"
     ]
    }
   ],
   "source": [
    "model = lgb.train(params=best_params, train_set=train_data, num_boost_round=200)\n",
    "\n",
    "y_pred = model.predict(X_test)"
   ]
  },
  {
   "cell_type": "code",
   "execution_count": 18,
   "id": "32a01c7b",
   "metadata": {},
   "outputs": [
    {
     "name": "stdout",
     "output_type": "stream",
     "text": [
      "Mean Squared Error: 0.529732967913147\n",
      "R-squared: 0.49334611996957156\n"
     ]
    }
   ],
   "source": [
    "mse = mean_squared_error(y_test, y_pred)\n",
    "r2 = r2_score(y_test, y_pred)\n",
    "\n",
    "print(f\"Mean Squared Error: {mse}\")\n",
    "print(f\"R-squared: {r2}\")"
   ]
  },
  {
   "cell_type": "code",
   "execution_count": 19,
   "id": "1a1280cb",
   "metadata": {},
   "outputs": [],
   "source": [
    "for i in range(len(y_pred)):\n",
    "    if y_pred[i] < 0:\n",
    "        y_pred[i] = 1\n",
    "    elif y_pred[i] >= 0 and y_pred[i] < 1:\n",
    "        y_pred[i] = 1\n",
    "    elif y_pred[i] >= 1 and y_pred[i] < 1.5:\n",
    "        y_pred[i] = 1\n",
    "    elif y_pred[i] >= 1.5 and y_pred[i] < 2:\n",
    "        y_pred[i] = 2\n",
    "    elif y_pred[i] >= 2 and y_pred[i] < 2.5:\n",
    "        y_pred[i] = 2\n",
    "    elif y_pred[i] >= 2.5 and y_pred[i] < 3:\n",
    "        y_pred[i] = 3\n",
    "    elif y_pred[i] >= 3 and y_pred[i] < 3.5:\n",
    "        y_pred[i] = 3\n",
    "    elif y_pred[i] >= 3.5 and y_pred[i] < 4:\n",
    "        y_pred[i] = 4\n",
    "    elif y_pred[i] >= 4 and y_pred[i] <= 4.5:\n",
    "        y_pred[i] = 4\n",
    "    elif y_pred[i] > 4.5:\n",
    "        y_pred[i] = 5"
   ]
  },
  {
   "cell_type": "code",
   "execution_count": 20,
   "id": "84af5d75",
   "metadata": {},
   "outputs": [
    {
     "data": {
      "text/plain": [
       "0.7061678208336702"
      ]
     },
     "execution_count": 20,
     "metadata": {},
     "output_type": "execute_result"
    }
   ],
   "source": [
    "from sklearn.metrics import accuracy_score\n",
    "acc = accuracy_score(y_test,y_pred)\n",
    "acc"
   ]
  },
  {
   "cell_type": "code",
   "execution_count": 21,
   "id": "57e88b80",
   "metadata": {},
   "outputs": [
    {
     "data": {
      "text/plain": [
       "1.0    1083107\n",
       "2.0     343607\n",
       "3.0     120519\n",
       "4.0      46650\n",
       "5.0       1640\n",
       "dtype: int64"
      ]
     },
     "execution_count": 21,
     "metadata": {},
     "output_type": "execute_result"
    }
   ],
   "source": [
    "pred = pd.DataFrame(y_pred)\n",
    "pred.value_counts()"
   ]
  },
  {
   "cell_type": "code",
   "execution_count": 22,
   "id": "2b90fb44",
   "metadata": {
    "scrolled": true
   },
   "outputs": [
    {
     "data": {
      "text/plain": [
       "1    1187443\n",
       "2     203402\n",
       "3      87706\n",
       "5      65347\n",
       "4      51625\n",
       "Name: total_Days_Group, dtype: int64"
      ]
     },
     "execution_count": 22,
     "metadata": {},
     "output_type": "execute_result"
    }
   ],
   "source": [
    "y_test.value_counts()"
   ]
  },
  {
   "cell_type": "code",
   "execution_count": 23,
   "id": "292bba10",
   "metadata": {},
   "outputs": [],
   "source": [
    "import pickle\n",
    "with open('model_days_grp.pkl','wb') as f:\n",
    "    pickle.dump(model,f)"
   ]
  },
  {
   "cell_type": "code",
   "execution_count": 28,
   "id": "ce81ade2",
   "metadata": {},
   "outputs": [
    {
     "data": {
      "text/plain": [
       "Int64Index([ 284,  720,  721,  723,  724,  734,  736,  763,  853,  856,  977,\n",
       "             981, 1016, 1104, 1105, 1523, 1532, 1548, 1554, 1702, 1706, 1778,\n",
       "            1803, 1809, 1810, 1820, 1822, 1892, 1896, 1937, 1938, 1943, 2035,\n",
       "            2045, 2064, 2073, 2082, 2090, 2243, 2264, 2281, 2283, 2284, 2290,\n",
       "            2299, 2302, 2303, 2327, 2338, 2355, 2639, 2660, 2920, 2934, 3231,\n",
       "            3247, 3692, 3694, 3850, 4051, 4484, 4746, 4782, 4784, 4823, 4826,\n",
       "            4875, 4882, 4918, 4920, 5003, 5032, 5070, 5085, 5098, 5158, 5188,\n",
       "            5539, 5559, 5593, 5671, 5707, 5943, 5979, 6049, 6716, 6743, 6748,\n",
       "            6769, 7014, 7038, 7043, 7048, 7065, 7261, 7295, 7300, 7333, 7375,\n",
       "            7405],\n",
       "           dtype='int64')"
      ]
     },
     "execution_count": 28,
     "metadata": {},
     "output_type": "execute_result"
    }
   ],
   "source": [
    "df['type_name'].value_counts().index.sort_values()"
   ]
  },
  {
   "cell_type": "code",
   "execution_count": 244,
   "id": "e6c5283e",
   "metadata": {},
   "outputs": [
    {
     "data": {
      "text/html": [
       "<div>\n",
       "<style scoped>\n",
       "    .dataframe tbody tr th:only-of-type {\n",
       "        vertical-align: middle;\n",
       "    }\n",
       "\n",
       "    .dataframe tbody tr th {\n",
       "        vertical-align: top;\n",
       "    }\n",
       "\n",
       "    .dataframe thead th {\n",
       "        text-align: right;\n",
       "    }\n",
       "</style>\n",
       "<table border=\"1\" class=\"dataframe\">\n",
       "  <thead>\n",
       "    <tr style=\"text-align: right;\">\n",
       "      <th></th>\n",
       "      <th>state_code</th>\n",
       "      <th>dist_code</th>\n",
       "      <th>type_name</th>\n",
       "      <th>purpose_name</th>\n",
       "      <th>disp_name</th>\n",
       "      <th>Judge_Labels</th>\n",
       "      <th>Lag</th>\n",
       "      <th>Total_Days</th>\n",
       "      <th>total_Days_Group</th>\n",
       "      <th>Lag_grp</th>\n",
       "    </tr>\n",
       "  </thead>\n",
       "  <tbody>\n",
       "    <tr>\n",
       "      <th>0</th>\n",
       "      <td>1</td>\n",
       "      <td>1</td>\n",
       "      <td>1943</td>\n",
       "      <td>2975</td>\n",
       "      <td>33</td>\n",
       "      <td>55</td>\n",
       "      <td>0.0</td>\n",
       "      <td>37.0</td>\n",
       "      <td>1</td>\n",
       "      <td>1</td>\n",
       "    </tr>\n",
       "    <tr>\n",
       "      <th>1</th>\n",
       "      <td>1</td>\n",
       "      <td>1</td>\n",
       "      <td>1943</td>\n",
       "      <td>3315</td>\n",
       "      <td>52</td>\n",
       "      <td>55</td>\n",
       "      <td>0.0</td>\n",
       "      <td>31.0</td>\n",
       "      <td>1</td>\n",
       "      <td>1</td>\n",
       "    </tr>\n",
       "    <tr>\n",
       "      <th>2</th>\n",
       "      <td>1</td>\n",
       "      <td>1</td>\n",
       "      <td>1943</td>\n",
       "      <td>5877</td>\n",
       "      <td>52</td>\n",
       "      <td>55</td>\n",
       "      <td>0.0</td>\n",
       "      <td>31.0</td>\n",
       "      <td>1</td>\n",
       "      <td>1</td>\n",
       "    </tr>\n",
       "    <tr>\n",
       "      <th>3</th>\n",
       "      <td>1</td>\n",
       "      <td>1</td>\n",
       "      <td>1943</td>\n",
       "      <td>840</td>\n",
       "      <td>52</td>\n",
       "      <td>55</td>\n",
       "      <td>0.0</td>\n",
       "      <td>31.0</td>\n",
       "      <td>1</td>\n",
       "      <td>1</td>\n",
       "    </tr>\n",
       "    <tr>\n",
       "      <th>4</th>\n",
       "      <td>1</td>\n",
       "      <td>1</td>\n",
       "      <td>1943</td>\n",
       "      <td>840</td>\n",
       "      <td>5</td>\n",
       "      <td>55</td>\n",
       "      <td>0.0</td>\n",
       "      <td>8.0</td>\n",
       "      <td>1</td>\n",
       "      <td>1</td>\n",
       "    </tr>\n",
       "  </tbody>\n",
       "</table>\n",
       "</div>"
      ],
      "text/plain": [
       "   state_code  dist_code  type_name  purpose_name  disp_name  Judge_Labels  \\\n",
       "0           1          1       1943          2975         33            55   \n",
       "1           1          1       1943          3315         52            55   \n",
       "2           1          1       1943          5877         52            55   \n",
       "3           1          1       1943           840         52            55   \n",
       "4           1          1       1943           840          5            55   \n",
       "\n",
       "   Lag  Total_Days  total_Days_Group  Lag_grp  \n",
       "0  0.0        37.0                 1        1  \n",
       "1  0.0        31.0                 1        1  \n",
       "2  0.0        31.0                 1        1  \n",
       "3  0.0        31.0                 1        1  \n",
       "4  0.0         8.0                 1        1  "
      ]
     },
     "execution_count": 244,
     "metadata": {},
     "output_type": "execute_result"
    }
   ],
   "source": [
    "df.head()"
   ]
  },
  {
   "cell_type": "code",
   "execution_count": 248,
   "id": "0552a4a4",
   "metadata": {},
   "outputs": [
    {
     "data": {
      "text/plain": [
       "0.0       3201440\n",
       "1.0        792305\n",
       "2.0        400959\n",
       "3.0        250269\n",
       "4.0        193858\n",
       "           ...   \n",
       "1176.0          1\n",
       "1094.0          1\n",
       "1267.0          1\n",
       "991.0           1\n",
       "1095.0          1\n",
       "Name: Lag, Length: 1109, dtype: int64"
      ]
     },
     "execution_count": 248,
     "metadata": {},
     "output_type": "execute_result"
    }
   ],
   "source": [
    "df['Lag'].value_counts()"
   ]
  },
  {
   "cell_type": "code",
   "execution_count": 268,
   "id": "c006f1d5",
   "metadata": {},
   "outputs": [],
   "source": [
    "bins1 = [-1,10, 30, 80, 200, float('inf')]\n",
    "labels1 = [1, 2, 3, 4,5]\n",
    "\n",
    "\n",
    "df['Lag_grp'] = df['Lag_grp'].astype('int')\n",
    "df['Lag_grp']= pd.cut(df['Lag'],bins = bins1, labels = labels1)"
   ]
  },
  {
   "cell_type": "code",
   "execution_count": 251,
   "id": "7eea79f1",
   "metadata": {},
   "outputs": [
    {
     "data": {
      "text/plain": [
       "1    7092122\n",
       "2     559740\n",
       "3     235965\n",
       "4      76172\n",
       "5      13614\n",
       "Name: Lag_grp, dtype: int64"
      ]
     },
     "execution_count": 251,
     "metadata": {},
     "output_type": "execute_result"
    }
   ],
   "source": [
    "df['Lag_grp'].value_counts()"
   ]
  },
  {
   "cell_type": "code",
   "execution_count": 275,
   "id": "9ab62c1c",
   "metadata": {
    "scrolled": true
   },
   "outputs": [
    {
     "name": "stderr",
     "output_type": "stream",
     "text": [
      "C:\\Users\\dell\\anaconda3\\lib\\site-packages\\lightgbm\\engine.py:172: UserWarning: Found `n_estimators` in params. Will use it instead of argument\n",
      "  _log_warning(f\"Found `{alias}` in params. Will use it instead of argument\")\n"
     ]
    },
    {
     "name": "stdout",
     "output_type": "stream",
     "text": [
      "[LightGBM] [Info] Total Bins 247\n",
      "[LightGBM] [Info] Number of data points in the train set: 6382090, number of used features: 4\n",
      "[LightGBM] [Info] Start training from score 1.164825\n",
      "Mean Squared Error: 0.1728771210646099\n",
      "R-squared: 0.3703487422043864\n"
     ]
    }
   ],
   "source": [
    "import lightgbm as lgb\n",
    "from sklearn.model_selection import train_test_split\n",
    "from sklearn.metrics import mean_squared_error, r2_score\n",
    "\n",
    "\n",
    "X_lag = df[['state_code','dist_code', 'type_name','Judge_Labels']]\n",
    "y_lag = df['Lag_grp']\n",
    "\n",
    "X_train_lag, X_test_lag, y_train_lag, y_test_lag = train_test_split(X_lag, y_lag, test_size=0.2)\n",
    "\n",
    "\n",
    "best_params = {\n",
    "    'objective': 'regression',\n",
    "    'num_leaves': 80,\n",
    "    'n_estimators': 600,\n",
    "    'learning_rate': 0.3,\n",
    "    'feature_fraction': 0.8,\n",
    "    'boosting_type': 'gbdt',\n",
    "    'bagging_freq': 4,\n",
    "    'bagging_fraction': 0.8,\n",
    "    'force_col_wise':True\n",
    "}\n",
    "\n",
    "\n",
    "train_data = lgb.Dataset(X_train_lag, label=y_train_lag)\n",
    "\n",
    "model_lag = lgb.train(params=best_params, train_set=train_data, num_boost_round=200)\n",
    "\n",
    "y_pred_lag = model_lag.predict(X_test_lag)\n",
    "\n",
    "mse = mean_squared_error(y_test_lag, y_pred_lag)\n",
    "r2 = r2_score(y_test_lag, y_pred_lag)\n",
    "\n",
    "print(f\"Mean Squared Error: {mse}\")\n",
    "print(f\"R-squared: {r2}\")\n"
   ]
  },
  {
   "cell_type": "code",
   "execution_count": null,
   "id": "1fd0b089",
   "metadata": {},
   "outputs": [],
   "source": []
  },
  {
   "cell_type": "code",
   "execution_count": 276,
   "id": "a1084b85",
   "metadata": {},
   "outputs": [],
   "source": [
    "y_pred = y_pred_lag\n",
    "for i in range(len(y_pred)):\n",
    "    if y_pred_lag[i] < 0:\n",
    "        y_pred[i] = 1\n",
    "    elif y_pred[i] >= 0 and y_pred[i] < 1:\n",
    "        y_pred[i] = 1\n",
    "    elif y_pred[i] >= 1 and y_pred[i] < 1.5:\n",
    "        y_pred[i] = 1\n",
    "    elif y_pred[i] >= 1.5 and y_pred[i] < 2:\n",
    "        y_pred[i] = 2\n",
    "    elif y_pred[i] >= 2 and y_pred[i] < 2.5:\n",
    "        y_pred[i] = 2\n",
    "    elif y_pred[i] >= 2.5 and y_pred[i] < 3:\n",
    "        y_pred[i] = 3\n",
    "    elif y_pred[i] >= 3 and y_pred[i] < 3.5:\n",
    "        y_pred[i] = 3\n",
    "    elif y_pred[i] >= 3.5 and y_pred[i] < 4:\n",
    "        y_pred[i] = 4\n",
    "    elif y_pred[i] >= 4 and y_pred[i] <= 4.5:\n",
    "        y_pred[i] = 4\n",
    "    elif y_pred[i] > 4.5:\n",
    "        y_pred[i] = 5"
   ]
  },
  {
   "cell_type": "code",
   "execution_count": 277,
   "id": "6bf717fa",
   "metadata": {},
   "outputs": [
    {
     "data": {
      "text/plain": [
       "0.8779923573649518"
      ]
     },
     "execution_count": 277,
     "metadata": {},
     "output_type": "execute_result"
    }
   ],
   "source": [
    "from sklearn.metrics import accuracy_score\n",
    "acc = accuracy_score(y_test_lag,y_pred_lag)\n",
    "acc"
   ]
  },
  {
   "cell_type": "code",
   "execution_count": 278,
   "id": "7b2620da",
   "metadata": {},
   "outputs": [
    {
     "data": {
      "text/plain": [
       "1.0    1422351\n",
       "2.0     161905\n",
       "3.0       9429\n",
       "4.0       1620\n",
       "5.0        218\n",
       "dtype: int64"
      ]
     },
     "execution_count": 278,
     "metadata": {},
     "output_type": "execute_result"
    }
   ],
   "source": [
    "predi = pd.DataFrame(y_pred)\n",
    "predi.value_counts()"
   ]
  },
  {
   "cell_type": "code",
   "execution_count": 279,
   "id": "f5c25559",
   "metadata": {},
   "outputs": [
    {
     "data": {
      "text/plain": [
       "1    1418632\n",
       "2     111840\n",
       "3      46986\n",
       "4      15357\n",
       "5       2708\n",
       "Name: Lag_grp, dtype: int64"
      ]
     },
     "execution_count": 279,
     "metadata": {},
     "output_type": "execute_result"
    }
   ],
   "source": [
    "y_test_lag.value_counts()"
   ]
  },
  {
   "cell_type": "code",
   "execution_count": 280,
   "id": "8cb3db62",
   "metadata": {},
   "outputs": [],
   "source": [
    "import pickle\n",
    "with open('Court_model_lag_last_updated.pkl','wb') as f:\n",
    "    pickle.dump(model_lag,f)"
   ]
  }
 ],
 "metadata": {
  "kernelspec": {
   "display_name": "Python 3 (ipykernel)",
   "language": "python",
   "name": "python3"
  },
  "language_info": {
   "codemirror_mode": {
    "name": "ipython",
    "version": 3
   },
   "file_extension": ".py",
   "mimetype": "text/x-python",
   "name": "python",
   "nbconvert_exporter": "python",
   "pygments_lexer": "ipython3",
   "version": "3.9.17"
  }
 },
 "nbformat": 4,
 "nbformat_minor": 5
}
