{
 "cells": [
  {
   "cell_type": "code",
   "execution_count": 1,
   "id": "85b13b7d",
   "metadata": {},
   "outputs": [],
   "source": [
    "import pandas as pd\n",
    "import numpy as np\n",
    "df = pd.read_csv(r\"D:\\Machine Learning\\final_preprocessed_data.csv\")"
   ]
  },
  {
   "cell_type": "code",
   "execution_count": 2,
   "id": "fe35aab9",
   "metadata": {},
   "outputs": [
    {
     "data": {
      "text/html": [
       "<div>\n",
       "<style scoped>\n",
       "    .dataframe tbody tr th:only-of-type {\n",
       "        vertical-align: middle;\n",
       "    }\n",
       "\n",
       "    .dataframe tbody tr th {\n",
       "        vertical-align: top;\n",
       "    }\n",
       "\n",
       "    .dataframe thead th {\n",
       "        text-align: right;\n",
       "    }\n",
       "</style>\n",
       "<table border=\"1\" class=\"dataframe\">\n",
       "  <thead>\n",
       "    <tr style=\"text-align: right;\">\n",
       "      <th></th>\n",
       "      <th>state_code</th>\n",
       "      <th>dist_code</th>\n",
       "      <th>type_name</th>\n",
       "      <th>purpose_name</th>\n",
       "      <th>disp_name</th>\n",
       "      <th>Judge_Labels</th>\n",
       "      <th>Lag</th>\n",
       "      <th>Total_Days</th>\n",
       "    </tr>\n",
       "  </thead>\n",
       "  <tbody>\n",
       "    <tr>\n",
       "      <th>0</th>\n",
       "      <td>1</td>\n",
       "      <td>1</td>\n",
       "      <td>1943</td>\n",
       "      <td>2975</td>\n",
       "      <td>33</td>\n",
       "      <td>55</td>\n",
       "      <td>0.0</td>\n",
       "      <td>37.0</td>\n",
       "    </tr>\n",
       "    <tr>\n",
       "      <th>1</th>\n",
       "      <td>1</td>\n",
       "      <td>1</td>\n",
       "      <td>1943</td>\n",
       "      <td>3315</td>\n",
       "      <td>52</td>\n",
       "      <td>55</td>\n",
       "      <td>0.0</td>\n",
       "      <td>31.0</td>\n",
       "    </tr>\n",
       "    <tr>\n",
       "      <th>2</th>\n",
       "      <td>1</td>\n",
       "      <td>1</td>\n",
       "      <td>1943</td>\n",
       "      <td>5877</td>\n",
       "      <td>52</td>\n",
       "      <td>55</td>\n",
       "      <td>0.0</td>\n",
       "      <td>31.0</td>\n",
       "    </tr>\n",
       "    <tr>\n",
       "      <th>3</th>\n",
       "      <td>1</td>\n",
       "      <td>1</td>\n",
       "      <td>1943</td>\n",
       "      <td>840</td>\n",
       "      <td>52</td>\n",
       "      <td>55</td>\n",
       "      <td>0.0</td>\n",
       "      <td>31.0</td>\n",
       "    </tr>\n",
       "    <tr>\n",
       "      <th>4</th>\n",
       "      <td>1</td>\n",
       "      <td>1</td>\n",
       "      <td>1943</td>\n",
       "      <td>840</td>\n",
       "      <td>5</td>\n",
       "      <td>55</td>\n",
       "      <td>0.0</td>\n",
       "      <td>8.0</td>\n",
       "    </tr>\n",
       "  </tbody>\n",
       "</table>\n",
       "</div>"
      ],
      "text/plain": [
       "   state_code  dist_code  type_name  purpose_name  disp_name  Judge_Labels  \\\n",
       "0           1          1       1943          2975         33            55   \n",
       "1           1          1       1943          3315         52            55   \n",
       "2           1          1       1943          5877         52            55   \n",
       "3           1          1       1943           840         52            55   \n",
       "4           1          1       1943           840          5            55   \n",
       "\n",
       "   Lag  Total_Days  \n",
       "0  0.0        37.0  \n",
       "1  0.0        31.0  \n",
       "2  0.0        31.0  \n",
       "3  0.0        31.0  \n",
       "4  0.0         8.0  "
      ]
     },
     "execution_count": 2,
     "metadata": {},
     "output_type": "execute_result"
    }
   ],
   "source": [
    "df.head()"
   ]
  },
  {
   "cell_type": "code",
   "execution_count": 3,
   "id": "abdeb1e1",
   "metadata": {},
   "outputs": [
    {
     "data": {
      "text/plain": [
       "981     513845\n",
       "977     426036\n",
       "736     328940\n",
       "1892    294604\n",
       "853     275986\n",
       "         ...  \n",
       "5390      2071\n",
       "3090      2046\n",
       "5297      1922\n",
       "4975      1572\n",
       "4947      1036\n",
       "Name: type_name, Length: 500, dtype: int64"
      ]
     },
     "execution_count": 3,
     "metadata": {},
     "output_type": "execute_result"
    }
   ],
   "source": [
    "df['type_name'].value_counts()"
   ]
  },
  {
   "cell_type": "code",
   "execution_count": 4,
   "id": "8aea730e",
   "metadata": {},
   "outputs": [],
   "source": [
    "top_100_positions = df['type_name'].value_counts().head(100).index\n",
    "df = df[df['type_name'].isin(top_100_positions)]"
   ]
  },
  {
   "cell_type": "code",
   "execution_count": 5,
   "id": "a7d2c208",
   "metadata": {},
   "outputs": [],
   "source": [
    "top_40_positions = df['Judge_Labels'].value_counts().head(40).index\n",
    "df = df[df['Judge_Labels'].isin(top_40_positions)]"
   ]
  },
  {
   "cell_type": "code",
   "execution_count": 6,
   "id": "c03c49ba",
   "metadata": {},
   "outputs": [
    {
     "data": {
      "text/plain": [
       "(8980039, 8)"
      ]
     },
     "execution_count": 6,
     "metadata": {},
     "output_type": "execute_result"
    }
   ],
   "source": [
    "df.shape"
   ]
  },
  {
   "cell_type": "code",
   "execution_count": 7,
   "id": "0b23a5d8",
   "metadata": {},
   "outputs": [
    {
     "data": {
      "text/plain": [
       "0.0      155761\n",
       "1.0        5890\n",
       "2.0        4301\n",
       "8.0        2818\n",
       "3.0        2709\n",
       "          ...  \n",
       "820.0         1\n",
       "935.0         1\n",
       "929.0         1\n",
       "882.0         1\n",
       "838.0         1\n",
       "Name: Total_Days, Length: 837, dtype: int64"
      ]
     },
     "execution_count": 7,
     "metadata": {},
     "output_type": "execute_result"
    }
   ],
   "source": [
    "df[df['type_name']==977]['Total_Days'].value_counts()"
   ]
  },
  {
   "cell_type": "code",
   "execution_count": 8,
   "id": "3391f1e6",
   "metadata": {},
   "outputs": [],
   "source": [
    "import pandas as pd\n",
    "\n",
    "for value in df['type_name'].unique():\n",
    "    specific_type_name = value\n",
    "    specific_type_data = df[df['type_name'] == specific_type_name]\n",
    "    Q1 = specific_type_data['Total_Days'].quantile(0.25)\n",
    "    Q3 = specific_type_data['Total_Days'].quantile(0.75)\n",
    "    IQR = Q3 - Q1\n",
    "    lower_bound = Q1 - 1.3 * IQR\n",
    "    upper_bound = Q3 + 1.3 * IQR\n",
    "    df = df[(df['type_name'] != specific_type_name) | ((df['type_name'] == specific_type_name) & (df['Total_Days'] >= lower_bound) & (df['Total_Days'] <= upper_bound))]\n"
   ]
  },
  {
   "cell_type": "code",
   "execution_count": 9,
   "id": "75cfa7e8",
   "metadata": {},
   "outputs": [
    {
     "data": {
      "text/html": [
       "<div>\n",
       "<style scoped>\n",
       "    .dataframe tbody tr th:only-of-type {\n",
       "        vertical-align: middle;\n",
       "    }\n",
       "\n",
       "    .dataframe tbody tr th {\n",
       "        vertical-align: top;\n",
       "    }\n",
       "\n",
       "    .dataframe thead th {\n",
       "        text-align: right;\n",
       "    }\n",
       "</style>\n",
       "<table border=\"1\" class=\"dataframe\">\n",
       "  <thead>\n",
       "    <tr style=\"text-align: right;\">\n",
       "      <th></th>\n",
       "      <th>state_code</th>\n",
       "      <th>dist_code</th>\n",
       "      <th>type_name</th>\n",
       "      <th>purpose_name</th>\n",
       "      <th>disp_name</th>\n",
       "      <th>Judge_Labels</th>\n",
       "      <th>Lag</th>\n",
       "      <th>Total_Days</th>\n",
       "    </tr>\n",
       "  </thead>\n",
       "  <tbody>\n",
       "    <tr>\n",
       "      <th>0</th>\n",
       "      <td>1</td>\n",
       "      <td>1</td>\n",
       "      <td>1943</td>\n",
       "      <td>2975</td>\n",
       "      <td>33</td>\n",
       "      <td>55</td>\n",
       "      <td>0.0</td>\n",
       "      <td>37.0</td>\n",
       "    </tr>\n",
       "    <tr>\n",
       "      <th>1</th>\n",
       "      <td>1</td>\n",
       "      <td>1</td>\n",
       "      <td>1943</td>\n",
       "      <td>3315</td>\n",
       "      <td>52</td>\n",
       "      <td>55</td>\n",
       "      <td>0.0</td>\n",
       "      <td>31.0</td>\n",
       "    </tr>\n",
       "    <tr>\n",
       "      <th>2</th>\n",
       "      <td>1</td>\n",
       "      <td>1</td>\n",
       "      <td>1943</td>\n",
       "      <td>5877</td>\n",
       "      <td>52</td>\n",
       "      <td>55</td>\n",
       "      <td>0.0</td>\n",
       "      <td>31.0</td>\n",
       "    </tr>\n",
       "    <tr>\n",
       "      <th>3</th>\n",
       "      <td>1</td>\n",
       "      <td>1</td>\n",
       "      <td>1943</td>\n",
       "      <td>840</td>\n",
       "      <td>52</td>\n",
       "      <td>55</td>\n",
       "      <td>0.0</td>\n",
       "      <td>31.0</td>\n",
       "    </tr>\n",
       "    <tr>\n",
       "      <th>4</th>\n",
       "      <td>1</td>\n",
       "      <td>1</td>\n",
       "      <td>1943</td>\n",
       "      <td>840</td>\n",
       "      <td>5</td>\n",
       "      <td>55</td>\n",
       "      <td>0.0</td>\n",
       "      <td>8.0</td>\n",
       "    </tr>\n",
       "  </tbody>\n",
       "</table>\n",
       "</div>"
      ],
      "text/plain": [
       "   state_code  dist_code  type_name  purpose_name  disp_name  Judge_Labels  \\\n",
       "0           1          1       1943          2975         33            55   \n",
       "1           1          1       1943          3315         52            55   \n",
       "2           1          1       1943          5877         52            55   \n",
       "3           1          1       1943           840         52            55   \n",
       "4           1          1       1943           840          5            55   \n",
       "\n",
       "   Lag  Total_Days  \n",
       "0  0.0        37.0  \n",
       "1  0.0        31.0  \n",
       "2  0.0        31.0  \n",
       "3  0.0        31.0  \n",
       "4  0.0         8.0  "
      ]
     },
     "execution_count": 9,
     "metadata": {},
     "output_type": "execute_result"
    }
   ],
   "source": [
    "df.head()"
   ]
  },
  {
   "cell_type": "code",
   "execution_count": 27,
   "id": "589a6992",
   "metadata": {},
   "outputs": [],
   "source": [
    "bins1 = [-1,20, 40, 80, 200, float('inf')]\n",
    "labels1 = [1, 2, 3, 4,5]\n",
    "\n",
    "df['Lag_grp']= pd.cut(df['Lag'],bins = bins1, labels = labels1)\n",
    "df['Lag_grp'] = df['Lag_grp'].astype('int')"
   ]
  },
  {
   "cell_type": "code",
   "execution_count": 28,
   "id": "884bbd2b",
   "metadata": {},
   "outputs": [
    {
     "data": {
      "text/plain": [
       "1    6066444\n",
       "2     786441\n",
       "3     645367\n",
       "4     389575\n",
       "5      89786\n",
       "Name: Lag_grp, dtype: int64"
      ]
     },
     "execution_count": 28,
     "metadata": {},
     "output_type": "execute_result"
    }
   ],
   "source": [
    "df['Lag_grp'].value_counts()"
   ]
  },
  {
   "cell_type": "code",
   "execution_count": 29,
   "id": "41494e52",
   "metadata": {},
   "outputs": [],
   "source": [
    "import lightgbm as lgb\n",
    "from sklearn.model_selection import train_test_split\n",
    "from sklearn.metrics import mean_squared_error, r2_score\n"
   ]
  },
  {
   "cell_type": "code",
   "execution_count": 30,
   "id": "bb1069cb",
   "metadata": {},
   "outputs": [],
   "source": [
    "X_lag = df[['state_code','dist_code', 'type_name','Judge_Labels']]\n",
    "y_lag = df['Lag_grp']\n",
    "\n",
    "X_train_lag, X_test_lag, y_train_lag, y_test_lag = train_test_split(X_lag, y_lag, test_size=0.2)\n"
   ]
  },
  {
   "cell_type": "code",
   "execution_count": 31,
   "id": "f6e18a5e",
   "metadata": {},
   "outputs": [],
   "source": [
    "best_params = {\n",
    "    'objective': 'regression',\n",
    "    'num_leaves': 70,\n",
    "    'n_estimators': 500,\n",
    "    'learning_rate': 0.3,\n",
    "    'feature_fraction': 0.8,\n",
    "    'boosting_type': 'gbdt',\n",
    "    'bagging_freq': 4,\n",
    "    'bagging_fraction': 0.8,\n",
    "    'force_col_wise':True\n",
    "}\n",
    "\n",
    "\n",
    "train_data = lgb.Dataset(X_train_lag, label=y_train_lag)\n"
   ]
  },
  {
   "cell_type": "code",
   "execution_count": 32,
   "id": "fea43aa2",
   "metadata": {},
   "outputs": [
    {
     "name": "stderr",
     "output_type": "stream",
     "text": [
      "C:\\Users\\dell\\anaconda3\\lib\\site-packages\\lightgbm\\engine.py:172: UserWarning: Found `n_estimators` in params. Will use it instead of argument\n",
      "  _log_warning(f\"Found `{alias}` in params. Will use it instead of argument\")\n"
     ]
    },
    {
     "name": "stdout",
     "output_type": "stream",
     "text": [
      "[LightGBM] [Info] Total Bins 246\n",
      "[LightGBM] [Info] Number of data points in the train set: 6382090, number of used features: 4\n",
      "[LightGBM] [Info] Start training from score 1.451669\n"
     ]
    }
   ],
   "source": [
    "model_lag = lgb.train(params=best_params, train_set=train_data, num_boost_round=200)\n",
    "y_pred_lag = model_lag.predict(X_test_lag)"
   ]
  },
  {
   "cell_type": "code",
   "execution_count": 33,
   "id": "6512239f",
   "metadata": {},
   "outputs": [
    {
     "name": "stdout",
     "output_type": "stream",
     "text": [
      "Mean Squared Error: 0.4324188430502841\n",
      "R-squared: 0.484498898265157\n"
     ]
    }
   ],
   "source": [
    "mse = mean_squared_error(y_test_lag, y_pred_lag)\n",
    "r2 = r2_score(y_test_lag, y_pred_lag)\n",
    "\n",
    "print(f\"Mean Squared Error: {mse}\")\n",
    "print(f\"R-squared: {r2}\")\n"
   ]
  },
  {
   "cell_type": "code",
   "execution_count": 34,
   "id": "31fd087d",
   "metadata": {},
   "outputs": [],
   "source": [
    "y_pred = y_pred_lag\n",
    "for i in range(len(y_pred)):\n",
    "    if y_pred_lag[i] < 0:\n",
    "        y_pred[i] = 1\n",
    "    elif y_pred[i] >= 0 and y_pred[i] < 1:\n",
    "        y_pred[i] = 1\n",
    "    elif y_pred[i] >= 1 and y_pred[i] < 1.5:\n",
    "        y_pred[i] = 1\n",
    "    elif y_pred[i] >= 1.5 and y_pred[i] < 2:\n",
    "        y_pred[i] = 2\n",
    "    elif y_pred[i] >= 2 and y_pred[i] < 2.5:\n",
    "        y_pred[i] = 2\n",
    "    elif y_pred[i] >= 2.5 and y_pred[i] < 3:\n",
    "        y_pred[i] = 3\n",
    "    elif y_pred[i] >= 3 and y_pred[i] < 3.5:\n",
    "        y_pred[i] = 3\n",
    "    elif y_pred[i] >= 3.5 and y_pred[i] < 4:\n",
    "        y_pred[i] = 4\n",
    "    elif y_pred[i] >= 4 and y_pred[i] <= 4.5:\n",
    "        y_pred[i] = 4\n",
    "    elif y_pred[i] > 4.5:\n",
    "        y_pred[i] = 5"
   ]
  },
  {
   "cell_type": "code",
   "execution_count": 35,
   "id": "2a8cd7b8",
   "metadata": {
    "scrolled": true
   },
   "outputs": [
    {
     "data": {
      "text/plain": [
       "0.738848014099452"
      ]
     },
     "execution_count": 35,
     "metadata": {},
     "output_type": "execute_result"
    }
   ],
   "source": [
    "from sklearn.metrics import accuracy_score\n",
    "acc = accuracy_score(y_test_lag,y_pred_lag)\n",
    "acc"
   ]
  },
  {
   "cell_type": "code",
   "execution_count": 36,
   "id": "17471672",
   "metadata": {},
   "outputs": [
    {
     "data": {
      "text/plain": [
       "1.0    1119642\n",
       "2.0     323584\n",
       "3.0     136281\n",
       "4.0      14795\n",
       "5.0       1221\n",
       "dtype: int64"
      ]
     },
     "execution_count": 36,
     "metadata": {},
     "output_type": "execute_result"
    }
   ],
   "source": [
    "pred = pd.DataFrame(y_pred_lag)\n",
    "pred.value_counts()"
   ]
  },
  {
   "cell_type": "code",
   "execution_count": 38,
   "id": "416cfb47",
   "metadata": {},
   "outputs": [
    {
     "data": {
      "text/plain": [
       "1    1212722\n",
       "2     157118\n",
       "3     129630\n",
       "4      78141\n",
       "5      17912\n",
       "Name: Lag_grp, dtype: int64"
      ]
     },
     "execution_count": 38,
     "metadata": {},
     "output_type": "execute_result"
    }
   ],
   "source": [
    "y_test_lag.value_counts()"
   ]
  },
  {
   "cell_type": "code",
   "execution_count": 40,
   "id": "cffba988",
   "metadata": {},
   "outputs": [],
   "source": [
    "import pickle\n",
    "with open('model_lag_grp.pkl','wb') as f:\n",
    "    pickle.dump(model_lag,f)"
   ]
  }
 ],
 "metadata": {
  "kernelspec": {
   "display_name": "Python 3 (ipykernel)",
   "language": "python",
   "name": "python3"
  },
  "language_info": {
   "codemirror_mode": {
    "name": "ipython",
    "version": 3
   },
   "file_extension": ".py",
   "mimetype": "text/x-python",
   "name": "python",
   "nbconvert_exporter": "python",
   "pygments_lexer": "ipython3",
   "version": "3.9.17"
  }
 },
 "nbformat": 4,
 "nbformat_minor": 5
}
